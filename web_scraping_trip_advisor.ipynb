{
  "cells": [
    {
      "cell_type": "markdown",
      "id": "64859317",
      "metadata": {
        "id": "64859317"
      },
      "source": [
        "<h1><center>Scarping Hotel Details of a City on TripAdvisor</center></h1>"
      ]
    },
    {
      "cell_type": "markdown",
      "id": "a27de1a8",
      "metadata": {
        "id": "a27de1a8"
      },
      "source": [
        "![](https://i.imgur.com/lwsc7HJ.png)"
      ]
    },
    {
      "cell_type": "markdown",
      "id": "ef79b405",
      "metadata": {
        "id": "ef79b405"
      },
      "source": [
        "<p><b>Data</b> has become a major part of our day-to-day lives. we have tons of unstructured data available freely over the web. one can use automatic methods such as<span><b> Web-Scraping</b></span> to collect this unstructured data  and convert it to structured data.</p> \n",
        "<h4>What is web-scraping?</h4>\n",
        "\n",
        "- Web scraping is an automatic method to obtain large amounts of data from websites.Most of this data is unstructured data in an HTML format which is then converted into structured data in a spreadsheet or a database so that it can be used in various applications.\n",
        "\n",
        "Here we are scraping the <a href=\"https://www.tripadvisor.com/\">TripAdvisor</a> website to parse the Hotel prices offered by different websites for the same hotel in a given city. \n",
        "\n",
        "<b>TripAdvisor</b> is a travel guide website that offers its users from planning to booking to taking a trip. we are using the below tools to complete this project.\n",
        "- <b>Python</b> is one of the most popular languages for web scraping as it has a variety of libraries that are specifically created for Web Scraping.\n",
        "- <b>Beautiful soup</b> is another Python library that is highly suitable for Web Scraping, It creates a parse tree that can be used to extract data from HTML on a website.\n",
        "- <b>Selenium Webdriver</b> is a tool for testing the front end of an application, it is used to perform browser manipulation in web scraping \n",
        "- <b>Pandas</b> is a tool used to read and manipulate the data.  "
      ]
    },
    {
      "cell_type": "markdown",
      "id": "edb09ed4",
      "metadata": {
        "id": "edb09ed4"
      },
      "source": [
        "![](https://i.imgur.com/hdZCxLh.png)"
      ]
    },
    {
      "cell_type": "markdown",
      "id": "3058a768",
      "metadata": {
        "id": "3058a768"
      },
      "source": [
        "<b> Project Outline : </b>\n",
        "\n",
        "<ul>  \n",
        " <li>Install and Import the required packages.</li>  \n",
        " <li>Defining the global variables.</li>  \n",
        " <li>Create the selenium webdriver object.</li>  \n",
        " <li>By providing required inputs to the driver crawl to the hotel's page</li>\n",
        " <li>Create a BeautifulSoup object from the loaded page source and Parse the Hotel's details from BeautifulSoup object</li>\n",
        " <li>Write the Parsed data to a CSV file using Pandas</li> \n",
        " <li>Defining a main function to run all the above steps</li> \n",
        " <li>Open the CSV file and View the data using pandas</li> \n",
        "</ul> "
      ]
    },
    {
      "cell_type": "markdown",
      "id": "2fdf1235",
      "metadata": {
        "id": "2fdf1235"
      },
      "source": [
        "<h4>Install and Import the required packages.</h4>"
      ]
    },
    {
      "cell_type": "markdown",
      "id": "2d8075b5",
      "metadata": {
        "id": "2d8075b5"
      },
      "source": [
        "PIP is the standard package mangement system in Python, below are the packages we need to install for this project. "
      ]
    },
    {
      "cell_type": "markdown",
      "id": "80ae9b26",
      "metadata": {
        "id": "80ae9b26"
      },
      "source": [
        "<ul>  \n",
        " <li>pip install beautifulsoup4 selenium pandas</li>   \n",
        "</ul> \n"
      ]
    },
    {
      "cell_type": "markdown",
      "id": "6d86f72f",
      "metadata": {
        "id": "6d86f72f"
      },
      "source": [
        "The below are the libraries that are imported"
      ]
    },
    {
      "cell_type": "code",
      "execution_count": null,
      "id": "28f1f239",
      "metadata": {
        "id": "28f1f239"
      },
      "outputs": [],
      "source": [
        "from selenium import webdriver\n",
        "from selenium.webdriver.chrome.service import Service\n",
        "from selenium.webdriver.common.by import By \n",
        "from selenium.webdriver.common.keys import Keys\n",
        "from selenium.webdriver.support.ui import WebDriverWait\n",
        "from selenium.webdriver.support import expected_conditions as EC\n",
        "import time\n",
        "from bs4 import BeautifulSoup\n",
        "import pandas as pd"
      ]
    },
    {
      "cell_type": "markdown",
      "id": "26e2a187",
      "metadata": {
        "id": "26e2a187"
      },
      "source": [
        "<h4>Defining the global variables.</h4>\n"
      ]
    },
    {
      "cell_type": "code",
      "execution_count": null,
      "id": "2dfa6000",
      "metadata": {
        "id": "2dfa6000"
      },
      "outputs": [],
      "source": [
        "#PATHS\n",
        "SCRAPING_URL = \"https://www.tripadvisor.com/\"\n",
        "CHROME_DRIVER_PATH = \"D:\\MLworkSpace\\selenium\\chromedriver.exe\"\n",
        "\n",
        "#INPUTS\n",
        "CITY = \"Hyderabad\"\n",
        "CHECK_IN = \"Tue May 10 2022\"\n",
        "CHECK_OUT = \"Wed May 11 2022\"\n",
        "NO_OF_PAGES = 5\n",
        "\n",
        "#Global Variables\n",
        "HOTELS_LIST = []\n",
        "HOTELS_DF = None"
      ]
    },
    {
      "cell_type": "markdown",
      "id": "b5a3f079",
      "metadata": {
        "id": "b5a3f079"
      },
      "source": [
        "<h4>Create the selenium webdriver object.</h4> \n",
        "\n",
        "- we have to create the webdriver instance of the required browser type by providing path to the chromedriver and required additional options. \n",
        "\n"
      ]
    },
    {
      "cell_type": "code",
      "execution_count": null,
      "id": "4bc376f7",
      "metadata": {
        "id": "4bc376f7"
      },
      "outputs": [],
      "source": [
        "def get_driver_object():\n",
        "    \"\"\"\n",
        "    Creates and returns the selenium webdriver object \n",
        "\n",
        "    Returns:\n",
        "        Chromedriver object: This driver object can be used to simulate the webbrowser\n",
        "    \"\"\"\n",
        "    \n",
        "    # Creating the service object to pass the executable chromedriver path to webdriver\n",
        "    service_object = Service(executable_path=CHROME_DRIVER_PATH)\n",
        "    \n",
        "    # Creating the ChromeOptions object to pass the additional arguments to webdriver\n",
        "    options = webdriver.ChromeOptions()\n",
        "    \n",
        "    # Adding the arguments to ChromeOptions object\n",
        "    options.headless = True                    #To run the chrome without GUI\n",
        "    options.add_argument(\"start-maximized\")      #To start the window maximised \n",
        "    options.add_argument(\"--disable-extensions\") #To disable all the browser extensions\n",
        "    options.add_argument(\"--log-level=3\")        #To to capture the logs from level 3 or above\n",
        "    options.add_experimental_option(\n",
        "        \"prefs\", {\"profile.managed_default_content_settings.images\": 2}\n",
        "    )                                           #To disable the images that are loaded when the website is opened\n",
        "    \n",
        "    \n",
        "    # Creating the Webdriver object of type Chrome by passing service and options arguments\n",
        "    driver_object = webdriver.Chrome(service=service_object,options=options)\n",
        "    \n",
        "    \n",
        "    return driver_object"
      ]
    },
    {
      "cell_type": "markdown",
      "id": "f8dea075",
      "metadata": {
        "id": "f8dea075"
      },
      "source": [
        "- we have to open website by passing URL to the webdriver instance with get() method."
      ]
    },
    {
      "cell_type": "code",
      "execution_count": null,
      "id": "b8122b3f",
      "metadata": {
        "id": "b8122b3f"
      },
      "outputs": [],
      "source": [
        "def get_website_driver(driver=get_driver_object(),url=SCRAPING_URL):\n",
        "    \"\"\"it will get the chromedriver object and opens the given URL\n",
        "\n",
        "    Args:\n",
        "        driver (Chromedriver): _description_. Defaults to get_driver_object().\n",
        "        url (str, optional): URL of the website. Defaults to SCRAPING_URL.\n",
        "\n",
        "    Returns:\n",
        "        Chromedriver: The driver where the given url is opened.\n",
        "    \"\"\"\n",
        "\n",
        "    # Opening the URL with the created driver object\n",
        "    print(\"The webdriver is created\") \n",
        "    driver.get(url)\n",
        "    print(f\"The URL '{url}' is opened\")\n",
        "    return driver"
      ]
    },
    {
      "cell_type": "markdown",
      "id": "56aca98b",
      "metadata": {
        "id": "56aca98b"
      },
      "source": [
        "<h4>By providing required inputs to the driver crawl to the hotel's page</h4>\n",
        "\n",
        "- The name of the CITY is provided as input in the search field using send_keys(\"input_text\") method.\n",
        "\n",
        "![](https://i.imgur.com/b7S7Ct2.png)\n",
        "\n",
        "- The Hotels tab is seleceted in the loaded in page after giving the city as input.\n",
        "\n",
        "![](https://i.imgur.com/El3MYdj.png)\n"
      ]
    },
    {
      "cell_type": "code",
      "execution_count": null,
      "id": "ff491c7d",
      "metadata": {
        "id": "ff491c7d"
      },
      "outputs": [],
      "source": [
        "def open_hotels_tab(driver):\n",
        "    \"\"\" Opens the Hotels link with city provided\n",
        "\n",
        "    Args:\n",
        "        driver (Chromedriver): The driver where the url is opened.\n",
        "    \"\"\"\n",
        "    #Finding the Input Tag for to enter the CITY name\n",
        "    city_input_tag = driver.find_element(by=By.XPATH,value=\"//input[@placeholder='Where to?']\")\n",
        "    \n",
        "    #providing the charaters in the CITY one by one as the search is dynamically loaded\n",
        "    for letter in CITY:\n",
        "        city_input_tag.send_keys(letter)\n",
        "    time.sleep(5)\n",
        "    \n",
        "    \n",
        "    # selecting the top search result based on the input provided\n",
        "    city_input_tag.send_keys(Keys.ARROW_DOWN)\n",
        "    city_input_tag.send_keys(Keys.ENTER)\n",
        "    time.sleep(5)\n",
        "    \n",
        "    \n",
        "    # selecting the type as Hotels in the webpage that is loaded\n",
        "    wait = WebDriverWait(driver,10)\n",
        "    for _ in range(3):\n",
        "        try:\n",
        "            select_hotels_tag = wait.until(EC.presence_of_element_located((By.XPATH,'//span[contains(text(),\"Hotels\")]')))      \n",
        "            driver.execute_script(\"arguments[0].click();\", select_hotels_tag)\n",
        "            break\n",
        "        except:\n",
        "            time.sleep(2)\n",
        "            continue\n",
        "    print(\"The Hotels window with the provided city is opened\")"
      ]
    },
    {
      "cell_type": "markdown",
      "id": "887f71bf",
      "metadata": {
        "id": "887f71bf"
      },
      "source": [
        "- The check-in and check-out date is selected in the loaded page.\n",
        "\n",
        "![](https://i.imgur.com/ZXJrAbG.png)"
      ]
    },
    {
      "cell_type": "code",
      "execution_count": null,
      "id": "32b60484",
      "metadata": {
        "id": "32b60484"
      },
      "outputs": [],
      "source": [
        "def select_check_in(driver):\n",
        "    \"\"\"The check in date is selected in the list the dates available \n",
        "\n",
        "    Args:\n",
        "        driver (Chromedriver): The driver instance where the Hotels page is loaded\n",
        "    \"\"\"\n",
        "    # Check in Date element is selected\n",
        "    check_in_dates = driver.find_elements(By.CLASS_NAME,\"fgeHy\")\n",
        "    \n",
        "    # Selecting the check in date in the available dates \n",
        "    for date in check_in_dates:\n",
        "        date_val = date.get_attribute(\"aria-label\")\n",
        "        if date_val == CHECK_IN and date.is_enabled():\n",
        "            driver.execute_script(\"arguments[0].click();\", date)\n",
        "            print(\"Check in date selected\")\n",
        "\n",
        "            \n",
        "def select_check_out(driver):\n",
        "    \"\"\" The check out date is selected in the list the dates available \n",
        "\n",
        "    Args:\n",
        "        driver (Chromedriver): The driver instance where the check in date selected\n",
        "    \"\"\"\n",
        "    #  After the check in date is selected the wep-page loads in the backgound the chances of getting \n",
        "    #  stale element exceptions are more to avoid this we can use implicit or explicit wait\n",
        "    \n",
        "    \n",
        "    # Selecting the Check out dates available \n",
        "    wait = WebDriverWait(driver,10)\n",
        "    check_out_dates = wait.until(EC.presence_of_all_elements_located((By.CLASS_NAME,\"fgeHy\")))\n",
        "    \n",
        "    \n",
        "    # searching the available dates and selecting the check out date\n",
        "    for date in check_out_dates:\n",
        "        date_val = date.get_attribute(\"aria-label\")\n",
        "        if date_val == CHECK_OUT and date.is_enabled():\n",
        "            driver.implicitly_wait(10)\n",
        "            # searching the check out date element in the wep page to avoid Stale Element exception\n",
        "            date_element = wait.until(EC.presence_of_element_located((By.XPATH,f\"//div[@aria-label='{date_val}']\")))\n",
        "            driver.execute_script(\"arguments[0].click();\", date_element)\n",
        "            print(\"Check Out date selected\")\n",
        "            break\n",
        "\n",
        "def select_check_in_out_dates(driver):\n",
        "    \"\"\"The check in and check out dates are selected in the webpage loaded\n",
        "\n",
        "    Args:\n",
        "        driver (webdriver): The driver instance where the hotels page is loaded with provided city\n",
        "    \"\"\"\n",
        "    # Moving to the first month that is available\n",
        "    time.sleep(5)\n",
        "    left_button = driver.find_element(by=By.CSS_SELECTOR, value=\".RGOTE button\")\n",
        "    if left_button.is_enabled():\n",
        "        driver.execute_script(\"arguments[0].click();\", left_button) \n",
        "    \n",
        "    # Select check in Date\n",
        "    select_check_in(driver)\n",
        "    time.sleep(10)\n",
        "    \n",
        "    # Select Check out Date\n",
        "    select_check_out(driver)\n",
        "    time.sleep(10)\n",
        "    \n",
        "\n"
      ]
    },
    {
      "cell_type": "markdown",
      "id": "90024713",
      "metadata": {
        "id": "90024713"
      },
      "source": [
        "- The deatils are updated to get the list of the hotels\n",
        "![](https://i.imgur.com/7nQc7CS.png)"
      ]
    },
    {
      "cell_type": "code",
      "execution_count": null,
      "id": "8e540e79",
      "metadata": {
        "id": "8e540e79"
      },
      "outputs": [],
      "source": [
        "def update_button(driver):\n",
        "    \"\"\"The check in , check out details are updated to populate the hotel results\n",
        "\n",
        "    Args:\n",
        "        driver (Chromedriver): The driver instance where check in and check out dates are selected\n",
        "    \"\"\"\n",
        "    # The webpage is dyanmically loading in the background once check in date\n",
        "    for _ in range(10):\n",
        "        try:\n",
        "            driver.find_element(by=By.XPATH,value='//button[@class=\"ui_button primary fullwidth\"]').click()\n",
        "            break\n",
        "        except:\n",
        "            time.sleep(2)\n",
        "    print(\"The web page is loaded with the provided check in and check out dates\")"
      ]
    },
    {
      "cell_type": "markdown",
      "id": "525f615a",
      "metadata": {
        "id": "525f615a"
      },
      "source": [
        "- Below function calls the open_hotels_tab(driver),select_check_in_out_dates(driver),update_button(driver) to open the hotels tab."
      ]
    },
    {
      "cell_type": "code",
      "execution_count": null,
      "id": "c99c5e36",
      "metadata": {
        "id": "c99c5e36"
      },
      "outputs": [],
      "source": [
        "def search_hotels(driver):\n",
        "    \"\"\"Opens the Hotels page from which the data can be parsed.\n",
        "\n",
        "    Args:\n",
        "        driver (Chromedriver): The driver where the url is opened.\n",
        "    \"\"\"\n",
        "    #Opening the Hotels tab with the given city and waiting for it to load\n",
        "    open_hotels_tab(driver)\n",
        "    time.sleep(10)\n",
        "    \n",
        "    #Selecting the Check In and Check Out Dates\n",
        "    select_check_in_out_dates(driver)\n",
        "    \n",
        "    #Updating the details\n",
        "    update_button(driver)\n",
        "    time.sleep(10)"
      ]
    },
    {
      "cell_type": "markdown",
      "id": "a6998fdc",
      "metadata": {
        "id": "a6998fdc"
      },
      "source": [
        "<h4>Create a BeautifulSoup object from the loaded page source and Parse the Hotel's details from BeautifulSoup object</h4>\n",
        "\n",
        "- The driver.page_source is passed to BeautifulSoup Class to create a BeautifulSoup object.\n",
        "- The various hotel details are parsed from this soup object.\n",
        "- parse_hotel_details(hotel) is function which takes hotel DIV element and parses the hotel information marked below.\n",
        "\n",
        "![](https://i.imgur.com/uHnXehC.png)\n"
      ]
    },
    {
      "cell_type": "code",
      "execution_count": null,
      "id": "4eb97320",
      "metadata": {
        "id": "4eb97320"
      },
      "outputs": [],
      "source": [
        "def parse_best_offer(hotel):\n",
        "    \"\"\"Parse the best offer hotel details given on tripadvisor\n",
        "\n",
        "    Args:\n",
        "        hotel (Beautifulsoup object): The hotel div element which contains hotel details\n",
        "    \n",
        "    Returns:\n",
        "        Dict: returns dictionary containing best offer hotel details. \n",
        "    \"\"\"\n",
        "    hotel_name = hotel.find(\"a\",class_=\"property_title\").text.strip()[3:]\n",
        "    hotel_price = hotel.find(\"div\",class_=\"price\").text\n",
        "    best_price_offered_element = hotel.find(\"img\",class_=\"provider_logo\")\n",
        "    best_price_offered_by = best_price_offered_element[\"alt\"] if best_price_offered_element is not None else None\n",
        "    review_count = hotel.find(\"a\",class_=\"review_count\").text \n",
        "    return  {\n",
        "        \"Hotel_Name\" : hotel_name,\n",
        "        \"Hotel_Price\" : hotel_price,\n",
        "        \"Best_Deal_By\" : best_price_offered_by,\n",
        "        \"Review_Count\" : review_count,\n",
        "    }"
      ]
    },
    {
      "cell_type": "markdown",
      "id": "dc0e87f6",
      "metadata": {
        "id": "dc0e87f6"
      },
      "source": [
        "- The details of the other offers listed for a hotel is parsed in the below function. \n",
        "![](https://i.imgur.com/hEMqCTg.png)"
      ]
    },
    {
      "cell_type": "code",
      "execution_count": null,
      "id": "62b82efa",
      "metadata": {
        "id": "62b82efa"
      },
      "outputs": [],
      "source": [
        "def parse_other_offers(hotel,hotel_details):\n",
        "    \"\"\"Parse the hotel details of other deals given on tripadvisor and to the hotel_details dictionary\n",
        "\n",
        "    Args:\n",
        "        hotel (Beautifulsoup object): The hotel div element which contains hotel details\n",
        "        hotel_details : Dictionary containing the best hotel details\n",
        "    Returns:\n",
        "        Dict: returns dictionary containing all offer's hotel details. \n",
        "    \"\"\"\n",
        "    other_deals = hotel.find(\"div\",class_=\"text-links\",).find_all(\"div\",recursive=False)\n",
        "    for i in range(3):\n",
        "        try : \n",
        "            deal_name_tag = other_deals[i].find(\"span\",class_=\"vendorInner\")\n",
        "            deal_name = deal_name_tag.text if deal_name_tag is not None else None\n",
        "            hotel_details[f\"next_deal_{i+1}\"] = deal_name\n",
        "\n",
        "            deal_price_tag = other_deals[i].find(\"div\",class_=\"price\")\n",
        "            deal_price = deal_price_tag.text if deal_price_tag is not None else None\n",
        "            hotel_details[f\"next_deal_{i+1}_price\"] = deal_price\n",
        "        except:\n",
        "            hotel_details[f\"next_deal_{i+1}\"] = None\n",
        "            hotel_details[f\"next_deal_{i+1}_price\"] = None\n",
        "    return hotel_details"
      ]
    },
    {
      "cell_type": "code",
      "execution_count": null,
      "id": "71f480a9",
      "metadata": {
        "id": "71f480a9"
      },
      "outputs": [],
      "source": [
        "def parse_hotel_details(hotel):\n",
        "    \"\"\"Parse the hotel details from the given hotel div element\n",
        "\n",
        "    Args:\n",
        "        hotel (Beautifulsoup object): The hotel div element which contains hotel details\n",
        "    \"\"\"\n",
        "    #declaring the global variables\n",
        "    global HOTELS_LIST\n",
        "\n",
        "    #Parsing the best offer Hotel Details\n",
        "    best_offer_deals = parse_best_offer(hotel)\n",
        "    \n",
        "    #Parsing the other offers Hotel Details \n",
        "    hotel_details = parse_other_offers(hotel,best_offer_deals)\n",
        "    \n",
        "    # Apending the data to the hotels list\n",
        "    HOTELS_LIST.append(hotel_details)"
      ]
    },
    {
      "cell_type": "markdown",
      "id": "c625c93d",
      "metadata": {
        "id": "c625c93d"
      },
      "source": [
        "- Function to create and parse the Hotel details."
      ]
    },
    {
      "cell_type": "code",
      "execution_count": null,
      "id": "6ecee3e9",
      "metadata": {
        "id": "6ecee3e9"
      },
      "outputs": [],
      "source": [
        "def parse_hotels(driver):\n",
        "    \"\"\" To parse th web page using the BeautifulSoup\n",
        "\n",
        "    Args:\n",
        "        driver (Chromedriver): The driver instance where the hotel details are loaded\n",
        "    \"\"\"\n",
        "    # Getting the HTML page source\n",
        "    html_source = driver.page_source\n",
        "\n",
        "    # Creating the BeautifulSoup object with the html source\n",
        "    soup = BeautifulSoup(html_source,\"html.parser\")\n",
        "    \n",
        "    # Finding all the Hotel Div's in the BeautifulSoup object \n",
        "    hotel_tags = soup.find_all(\"div\",{\"data-prwidget-name\":\"meta_hsx_responsive_listing\"})\n",
        "    \n",
        "    # Parsing the hotel details \n",
        "    for hotel in hotel_tags:\n",
        "        # condition to check if the hotel is sponsered, ignore this hotel if it is sponsered\n",
        "        sponsered = False if hotel.find(\"span\",class_=\"ui_merchandising_pill\") is None else True\n",
        "        if not sponsered:\n",
        "            parse_hotel_details(hotel)\n",
        "    print(\"The Hotels details in the current page are parsed\")"
      ]
    },
    {
      "cell_type": "markdown",
      "id": "3b0e6968",
      "metadata": {
        "id": "3b0e6968"
      },
      "source": [
        "- Next page is loaded after the details in the current page is parsed by clicking on the next page button.\n",
        "\n",
        "![](https://i.imgur.com/wR5nODS.png)"
      ]
    },
    {
      "cell_type": "code",
      "execution_count": null,
      "id": "f43ec783",
      "metadata": {
        "id": "f43ec783"
      },
      "outputs": [],
      "source": [
        "def next_page(driver) -> bool:\n",
        "    \"\"\"To load the next webpage if it is available\n",
        "\n",
        "    Args:\n",
        "        driver (Chromedriver): The driver instance where the hotel details are loaded\n",
        "\n",
        "    Returns:\n",
        "        bool: returns True if the page is loaded \n",
        "    \"\"\"\n",
        "    # Finding the element to load the next page\n",
        "    next_page_element = driver.find_element(By.XPATH,value='.//a[@class=\"nav next ui_button primary\"]')\n",
        "    \n",
        "    # click on the next page element if it is avialable\n",
        "    if next_page_element.is_enabled():\n",
        "        driver.execute_script(\"arguments[0].click();\", next_page_element)\n",
        "        time.sleep(30)\n",
        "        return True\n",
        "    return False"
      ]
    },
    {
      "cell_type": "markdown",
      "id": "b141bb53",
      "metadata": {
        "id": "b141bb53"
      },
      "source": [
        "<h4>Write the Parsed data to a CSV file using Pandas</h4>\n",
        "\n",
        "- Create a Pandas DataFrame object with the list of Hotel details.\n",
        "\n",
        "- Write the data to a CSV file using pandas.DataFrame.to_csv() method."
      ]
    },
    {
      "cell_type": "code",
      "execution_count": null,
      "id": "81b8ef1a",
      "metadata": {
        "id": "81b8ef1a"
      },
      "outputs": [],
      "source": [
        "def write_to_csv():\n",
        "    \"\"\"To Write the hotels data in to a CSV file using pandas\n",
        "    \"\"\"\n",
        "    #declaring the global variables\n",
        "    global HOTELS_LIST,HOTELS_DF\n",
        "\n",
        "    # Creating the pandas DataFrame object\n",
        "    HOTELS_DF = pd.DataFrame(HOTELS_LIST,index=None)\n",
        "\n",
        "    # Viewing the DataFrame\n",
        "    print(f\"The number of columns parsed is {HOTELS_DF.shape[1]}\")\n",
        "    print(f\"The number of rows parsed is {HOTELS_DF.shape[0]}\")\n",
        "\n",
        "    # Conveting the DataFrame to CSV file\n",
        "    HOTELS_DF.to_csv(\"hotels_list.csv\",index=False)\n",
        "    print(\"The CSV file is created at hotels_list.csv\")"
      ]
    },
    {
      "cell_type": "markdown",
      "id": "0da03f04",
      "metadata": {
        "id": "0da03f04"
      },
      "source": [
        "<h4>Defining a main function to run all the above steps.</h4>"
      ]
    },
    {
      "cell_type": "code",
      "execution_count": null,
      "id": "3fc1b0d1",
      "metadata": {
        "id": "3fc1b0d1"
      },
      "outputs": [],
      "source": [
        "def main():\n",
        "    # Create the driver and load the website\n",
        "    driver = get_website_driver()\n",
        "    \n",
        "    # open the website with details provided   \n",
        "    search_hotels(driver)\n",
        "    time.sleep(30)\n",
        "    \n",
        "    # Parse the hotel details for the given no of pages\n",
        "    parse_hotels(driver)\n",
        "    for page in range(NO_OF_PAGES):\n",
        "        if next_page(driver):\n",
        "            print(f\"The next page is loaded : Page No - {page+2}\")\n",
        "            parse_hotels(driver)\n",
        "    \n",
        "    # write the parsed data in to a CSV file\n",
        "    write_to_csv()\n",
        "    \n",
        "    # close the driver once the parsing is completed\n",
        "    driver.close()\n",
        "    print(\"The driver is closed\")"
      ]
    },
    {
      "cell_type": "code",
      "execution_count": null,
      "id": "9e4edf6f",
      "metadata": {
        "id": "9e4edf6f",
        "outputId": "b7a83447-fa89-4866-d4f5-180e060fbeaf"
      },
      "outputs": [
        {
          "name": "stdout",
          "output_type": "stream",
          "text": [
            "The webdriver is created\n",
            "The URL 'https://www.tripadvisor.com/' is opened\n",
            "The Hotels window with the provided city is opened\n",
            "Check in date selected\n",
            "Check Out date selected\n",
            "The web page is loaded with the provided check in and check out dates\n",
            "The Hotels details in the current page are parsed\n",
            "The next page is loaded : Page No - 2\n",
            "The Hotels details in the current page are parsed\n",
            "The next page is loaded : Page No - 3\n",
            "The Hotels details in the current page are parsed\n",
            "The next page is loaded : Page No - 4\n",
            "The Hotels details in the current page are parsed\n",
            "The next page is loaded : Page No - 5\n",
            "The Hotels details in the current page are parsed\n",
            "The next page is loaded : Page No - 6\n",
            "The Hotels details in the current page are parsed\n",
            "The number of columns parsed is 10\n",
            "The number of rows parsed is 180\n",
            "The CSV file is created at hotels_list.csv\n",
            "The driver is closed\n"
          ]
        }
      ],
      "source": [
        "main()"
      ]
    },
    {
      "cell_type": "markdown",
      "id": "0f91b8ed",
      "metadata": {
        "id": "0f91b8ed"
      },
      "source": [
        "<h4>Open the CSV file and View the data using pandas</h4>"
      ]
    },
    {
      "cell_type": "code",
      "execution_count": null,
      "id": "3a674409",
      "metadata": {
        "id": "3a674409",
        "outputId": "0f06dad7-b014-460c-ee17-278115e51a06"
      },
      "outputs": [
        {
          "data": {
            "text/html": [
              "<div>\n",
              "<style scoped>\n",
              "    .dataframe tbody tr th:only-of-type {\n",
              "        vertical-align: middle;\n",
              "    }\n",
              "\n",
              "    .dataframe tbody tr th {\n",
              "        vertical-align: top;\n",
              "    }\n",
              "\n",
              "    .dataframe thead th {\n",
              "        text-align: right;\n",
              "    }\n",
              "</style>\n",
              "<table border=\"1\" class=\"dataframe\">\n",
              "  <thead>\n",
              "    <tr style=\"text-align: right;\">\n",
              "      <th></th>\n",
              "      <th>Hotel_Name</th>\n",
              "      <th>Hotel_Price</th>\n",
              "      <th>Best_Deal_By</th>\n",
              "      <th>Review_Count</th>\n",
              "      <th>next_deal_1</th>\n",
              "      <th>next_deal_1_price</th>\n",
              "      <th>next_deal_2</th>\n",
              "      <th>next_deal_2_price</th>\n",
              "      <th>next_deal_3</th>\n",
              "      <th>next_deal_3_price</th>\n",
              "    </tr>\n",
              "  </thead>\n",
              "  <tbody>\n",
              "    <tr>\n",
              "      <th>0</th>\n",
              "      <td>Mercure Hyderabad KCP</td>\n",
              "      <td>₹5,500</td>\n",
              "      <td>Agoda.com</td>\n",
              "      <td>787 reviews</td>\n",
              "      <td>Mercure</td>\n",
              "      <td>₹5,500</td>\n",
              "      <td>Trip.com</td>\n",
              "      <td>₹4,866</td>\n",
              "      <td>ZenHotels.com</td>\n",
              "      <td>₹5,554</td>\n",
              "    </tr>\n",
              "    <tr>\n",
              "      <th>1</th>\n",
              "      <td>Holiday Inn Express Hyderabad Banjara Hills, a...</td>\n",
              "      <td>₹4,099</td>\n",
              "      <td>Agoda.com</td>\n",
              "      <td>169 reviews</td>\n",
              "      <td>Booking.com</td>\n",
              "      <td>₹4,099</td>\n",
              "      <td>HIExpress.com</td>\n",
              "      <td>₹4,099</td>\n",
              "      <td>Hotels.com</td>\n",
              "      <td>₹4,099</td>\n",
              "    </tr>\n",
              "    <tr>\n",
              "      <th>2</th>\n",
              "      <td>The Golkonda Hotel</td>\n",
              "      <td>₹3,580</td>\n",
              "      <td>Agoda.com</td>\n",
              "      <td>2,248 reviews</td>\n",
              "      <td>Hotels.com</td>\n",
              "      <td>₹4,191</td>\n",
              "      <td>eDreams</td>\n",
              "      <td>₹5,400</td>\n",
              "      <td>Expedia</td>\n",
              "      <td>₹4,191</td>\n",
              "    </tr>\n",
              "    <tr>\n",
              "      <th>3</th>\n",
              "      <td>Fairfield by Marriott Hyderabad Gachibowli</td>\n",
              "      <td>₹4,409</td>\n",
              "      <td>MakeMyTrip</td>\n",
              "      <td>338 reviews</td>\n",
              "      <td>Agoda.com</td>\n",
              "      <td>₹6,400</td>\n",
              "      <td>Fairfield Inn</td>\n",
              "      <td>₹6,400</td>\n",
              "      <td>Booking.com</td>\n",
              "      <td>₹9,500</td>\n",
              "    </tr>\n",
              "    <tr>\n",
              "      <th>4</th>\n",
              "      <td>The Park Hyderabad</td>\n",
              "      <td>₹5,560</td>\n",
              "      <td>Agoda.com</td>\n",
              "      <td>3,641 reviews</td>\n",
              "      <td>Booking.com</td>\n",
              "      <td>₹5,560</td>\n",
              "      <td>goibibo.com</td>\n",
              "      <td>₹5,060</td>\n",
              "      <td>eDreams</td>\n",
              "      <td>₹5,560</td>\n",
              "    </tr>\n",
              "  </tbody>\n",
              "</table>\n",
              "</div>"
            ],
            "text/plain": [
              "                                          Hotel_Name Hotel_Price Best_Deal_By  \\\n",
              "0                              Mercure Hyderabad KCP      ₹5,500    Agoda.com   \n",
              "1  Holiday Inn Express Hyderabad Banjara Hills, a...      ₹4,099    Agoda.com   \n",
              "2                                 The Golkonda Hotel      ₹3,580    Agoda.com   \n",
              "3         Fairfield by Marriott Hyderabad Gachibowli      ₹4,409   MakeMyTrip   \n",
              "4                                 The Park Hyderabad      ₹5,560    Agoda.com   \n",
              "\n",
              "    Review_Count  next_deal_1 next_deal_1_price    next_deal_2  \\\n",
              "0    787 reviews      Mercure            ₹5,500       Trip.com   \n",
              "1    169 reviews  Booking.com            ₹4,099  HIExpress.com   \n",
              "2  2,248 reviews   Hotels.com            ₹4,191        eDreams   \n",
              "3    338 reviews    Agoda.com            ₹6,400  Fairfield Inn   \n",
              "4  3,641 reviews  Booking.com            ₹5,560    goibibo.com   \n",
              "\n",
              "  next_deal_2_price    next_deal_3 next_deal_3_price  \n",
              "0            ₹4,866  ZenHotels.com            ₹5,554  \n",
              "1            ₹4,099     Hotels.com            ₹4,099  \n",
              "2            ₹5,400        Expedia            ₹4,191  \n",
              "3            ₹6,400    Booking.com            ₹9,500  \n",
              "4            ₹5,060        eDreams            ₹5,560  "
            ]
          },
          "execution_count": 17,
          "metadata": {},
          "output_type": "execute_result"
        }
      ],
      "source": [
        "hotels_csv_file = pd.read_csv(\"hotels_list.csv\")\n",
        "hotels_csv_file.head()"
      ]
    },
    {
      "cell_type": "markdown",
      "id": "433a61b5",
      "metadata": {
        "id": "433a61b5"
      },
      "source": [
        "<h4>Summary</h4>\n",
        "\n",
        "- To summarise we have opened the TripAdvisor website and crawled our way to the Hotel listings by providing the required information to the selenium webdriver which mimicked the human actions and opened the website for us.\n",
        "\n",
        "- Now to parse the details in the loaded page we have used Beautiful Soup, which allowed us to get the required hotel details from the HTML page source. \n",
        "\n",
        "- we have used pandas to save the data into a CSV file by converting our data to DataFrame object. \n",
        "\n",
        "- we can use this same technique to collect the other details available on the website using the above functions with some modifications,The data collected can be used for further analysis.\n",
        "    "
      ]
    },
    {
      "cell_type": "markdown",
      "id": "2fe03593",
      "metadata": {
        "id": "2fe03593"
      },
      "source": [
        "<h4>References:</h4> \n",
        "<ol type=\"i\">\n",
        "<li><a href=\"https://jovian.ai/learn/zero-to-data-analyst-bootcamp/lesson/workshop-web-scraping-with-selenium-aws\">Workshop - Web Scraping with Selenium & AWS</a> - Basics of Selenium and webscraping.</li>\n",
        "<li><a href=\"https://www.w3schools.com/html/default.asp\">HTML Topics</a> - Basics of HTML Tags.</li>\n",
        "<li><a href=\"https://www.w3schools.com/css/default.asp\"> CSS</a> - Basics of CSS Selectors.</li>\n",
        "<li><a href=\"https://www.geeksforgeeks.org/navigation-with-beautifulsoup/\">BeautifulSoup Topics.</a>- Basics of BeautifulSoup.</li>\n",
        "<li><a href=\"https://www.youtube.com/watch?v=IYILCEV5j6s&list=PLUDwpEzHYYLvx6SuogA7Zhb_hZl3sln66\">Selenium with Python Playlist</a> - By SDET- QA Automation Techie</li>\n",
        "<li><a href=\"https://jovian.ai/learn/zero-to-data-analyst-bootcamp/lesson/web-scraping-and-rest-apis\">Web Scraping and REST APIs</a> - By Jovian</li>\n",
        "</ol>"
      ]
    },
    {
      "cell_type": "markdown",
      "id": "dc953a19",
      "metadata": {
        "id": "dc953a19"
      },
      "source": [
        "<h4>Future work</h4>\n",
        "\n",
        "- same parsing technique can be applied to get other details in a city such as restaurants, fight deals, car rentals etc.\n",
        "- Parsing the each individual hotel details by visting the websites that offers this deals.\n",
        "- comparison analysis how the prices vary from one wesite to another."
      ]
    },
    {
      "cell_type": "code",
      "execution_count": null,
      "id": "2867fe8e",
      "metadata": {
        "id": "2867fe8e"
      },
      "outputs": [],
      "source": [
        "import jovian"
      ]
    },
    {
      "cell_type": "code",
      "execution_count": null,
      "id": "93e3adca",
      "metadata": {
        "id": "93e3adca",
        "outputId": "14057ec4-b7db-493b-9b11-433bf0fec58c"
      },
      "outputs": [
        {
          "data": {
            "application/javascript": [
              "window.require && require([\"base/js/namespace\"],function(Jupyter){Jupyter.notebook.save_checkpoint()})"
            ],
            "text/plain": [
              "<IPython.core.display.Javascript object>"
            ]
          },
          "metadata": {},
          "output_type": "display_data"
        }
      ],
      "source": [
        "jovian.commit(files=[\"hotels_list.csv\"])"
      ]
    },
    {
      "cell_type": "code",
      "execution_count": null,
      "id": "d2d6707c",
      "metadata": {
        "id": "d2d6707c"
      },
      "outputs": [],
      "source": []
    }
  ],
  "metadata": {
    "kernelspec": {
      "display_name": "Python 3 (ipykernel)",
      "language": "python",
      "name": "python3"
    },
    "language_info": {
      "codemirror_mode": {
        "name": "ipython",
        "version": 3
      },
      "file_extension": ".py",
      "mimetype": "text/x-python",
      "name": "python",
      "nbconvert_exporter": "python",
      "pygments_lexer": "ipython3",
      "version": "3.10.0"
    },
    "colab": {
      "provenance": []
    }
  },
  "nbformat": 4,
  "nbformat_minor": 5
}